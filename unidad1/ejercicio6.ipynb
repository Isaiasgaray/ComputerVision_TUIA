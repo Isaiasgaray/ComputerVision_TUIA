{
 "cells": [
  {
   "cell_type": "markdown",
   "metadata": {},
   "source": [
    "# 6. Explique cuál es diferencia entre localización de objetos y clasificación de imágenes. Muestre ejemplos de ello."
   ]
  },
  {
   "cell_type": "markdown",
   "metadata": {},
   "source": [
    "En la clasificación de imágenes, el objetivo es asignar una etiqueta o categoría a toda la imagen en su conjunto. Por ejemplo, en el conjunto de datos `MNIST`, cada imagen que representa un número manuscrito recibe una etiqueta del 0 al 9 según el número que representa. Después de que un algoritmo de clasificación procesa la imagen, devuelve una etiqueta que indica la categoría a la que pertenece la imagen.\n",
    "\n",
    "Por otro lado, la localización de objetos en una imagen implica identificar la ubicación específica de los objetos dentro de la imagen y dibujar un `bounding box` alrededor de cada objeto detectado. Por ejemplo, en el caso de los autos autónomos, las cámaras que estos llevan pueden detectar y clasificar objetos como autos y peatones en la misma imagen."
   ]
  },
  {
   "cell_type": "markdown",
   "metadata": {},
   "source": [
    "## Ejemplo clasificación"
   ]
  },
  {
   "cell_type": "code",
   "execution_count": 1,
   "metadata": {},
   "outputs": [
    {
     "name": "stderr",
     "output_type": "stream",
     "text": [
      "2024-04-22 22:57:46.056558: E external/local_xla/xla/stream_executor/cuda/cuda_dnn.cc:9261] Unable to register cuDNN factory: Attempting to register factory for plugin cuDNN when one has already been registered\n",
      "2024-04-22 22:57:46.056588: E external/local_xla/xla/stream_executor/cuda/cuda_fft.cc:607] Unable to register cuFFT factory: Attempting to register factory for plugin cuFFT when one has already been registered\n",
      "2024-04-22 22:57:46.057232: E external/local_xla/xla/stream_executor/cuda/cuda_blas.cc:1515] Unable to register cuBLAS factory: Attempting to register factory for plugin cuBLAS when one has already been registered\n",
      "2024-04-22 22:57:46.062486: I tensorflow/core/platform/cpu_feature_guard.cc:182] This TensorFlow binary is optimized to use available CPU instructions in performance-critical operations.\n",
      "To enable the following instructions: AVX2 FMA, in other operations, rebuild TensorFlow with the appropriate compiler flags.\n",
      "2024-04-22 22:57:46.642748: W tensorflow/compiler/tf2tensorrt/utils/py_utils.cc:38] TF-TRT Warning: Could not find TensorRT\n",
      "/usr/lib/python3/dist-packages/scipy/__init__.py:146: UserWarning: A NumPy version >=1.17.3 and <1.25.0 is required for this version of SciPy (detected version 1.26.2\n",
      "  warnings.warn(f\"A NumPy version >={np_minversion} and <{np_maxversion}\"\n"
     ]
    }
   ],
   "source": [
    "import tensorflow as tf\n",
    "from tensorflow.keras.applications import EfficientNetB0\n",
    "from tensorflow.keras.applications.efficientnet import preprocess_input, decode_predictions\n",
    "from tensorflow.keras.preprocessing import image\n",
    "from PIL import Image\n",
    "import numpy as np\n",
    "import matplotlib.pyplot as plt\n",
    "import matplotlib.image as mpimg"
   ]
  },
  {
   "cell_type": "code",
   "execution_count": 3,
   "metadata": {},
   "outputs": [],
   "source": [
    "# Cargar el modelo preentrenado EfficientNetB0\n",
    "model = EfficientNetB0(weights='imagenet')\n",
    "\n",
    "def clasificar_img(img_path):\n",
    "    # Se carga y prepara la imagen\n",
    "    img = Image.open(img_path)\n",
    "    img = img.resize((224, 224))\n",
    "\n",
    "    # Convertimos la imagen a un array\n",
    "    img_array = image.img_to_array(img)\n",
    "    img_array = np.expand_dims(img_array, axis=0)\n",
    "    img_array = preprocess_input(img_array)\n",
    "\n",
    "    # Realizamos la predicción\n",
    "    predictions = model.predict(img_array)\n",
    "\n",
    "    # Retornamos las predicciones\n",
    "    return decode_predictions(predictions, top=3)[0]"
   ]
  },
  {
   "cell_type": "code",
   "execution_count": 6,
   "metadata": {},
   "outputs": [
    {
     "name": "stdout",
     "output_type": "stream",
     "text": [
      "1/1 [==============================] - 0s 35ms/step\n",
      "\n",
      "Predicciones para la imagen img/img1.jpeg:\n",
      "1: packet (0.90)\n",
      "2: rubber_eraser (0.03)\n",
      "3: oil_filter (0.01)\n",
      "1/1 [==============================] - 0s 31ms/step\n",
      "\n",
      "Predicciones para la imagen img/img2.jpeg:\n",
      "1: packet (0.69)\n",
      "2: oil_filter (0.04)\n",
      "3: paper_towel (0.02)\n",
      "1/1 [==============================] - 0s 29ms/step\n",
      "\n",
      "Predicciones para la imagen img/img3.jpeg:\n",
      "1: packet (0.56)\n",
      "2: oil_filter (0.05)\n",
      "3: plastic_bag (0.05)\n",
      "1/1 [==============================] - 0s 30ms/step\n",
      "\n",
      "Predicciones para la imagen img/img4.jpeg:\n",
      "1: oil_filter (0.18)\n",
      "2: packet (0.12)\n",
      "3: carton (0.10)\n",
      "1/1 [==============================] - 0s 31ms/step\n",
      "\n",
      "Predicciones para la imagen img/img5.jpeg:\n",
      "1: mousetrap (0.09)\n",
      "2: packet (0.08)\n",
      "3: can_opener (0.05)\n",
      "1/1 [==============================] - 0s 31ms/step\n",
      "\n",
      "Predicciones para la imagen img/img6.jpeg:\n",
      "1: oil_filter (0.09)\n",
      "2: ashcan (0.04)\n",
      "3: pencil_sharpener (0.03)\n",
      "1/1 [==============================] - 0s 32ms/step\n",
      "\n",
      "Predicciones para la imagen img/img7.jpeg:\n",
      "1: packet (0.32)\n",
      "2: oil_filter (0.24)\n",
      "3: rubber_eraser (0.06)\n"
     ]
    }
   ],
   "source": [
    "imgs = [f'img/img{i}.jpeg' for i in range(1, 8)]\n",
    "\n",
    "for img_path in imgs:\n",
    "    prediccion = clasificar_img(img_path)\n",
    "\n",
    "    print(f'\\nPredicciones para la imagen {img_path}:')\n",
    "\n",
    "    for i, (imagenet_id, label, score) in enumerate(prediccion):\n",
    "        print(f'{i + 1}: {label} ({score:.2f})')"
   ]
  },
  {
   "cell_type": "markdown",
   "metadata": {},
   "source": [
    "## Ejemplo localización"
   ]
  },
  {
   "cell_type": "code",
   "execution_count": 9,
   "metadata": {},
   "outputs": [],
   "source": [
    "import cv2\n",
    "from ultralytics import YOLO"
   ]
  },
  {
   "cell_type": "code",
   "execution_count": 10,
   "metadata": {},
   "outputs": [
    {
     "name": "stdout",
     "output_type": "stream",
     "text": [
      "Downloading https://github.com/ultralytics/assets/releases/download/v8.2.0/yolov8n.pt to 'yolov8n.pt'...\n"
     ]
    },
    {
     "name": "stderr",
     "output_type": "stream",
     "text": [
      "100%|██████████| 6.23M/6.23M [00:01<00:00, 6.21MB/s]\n"
     ]
    },
    {
     "name": "stdout",
     "output_type": "stream",
     "text": [
      "\n",
      "0: 640x640 1 bottle, 61.0ms\n",
      "1: 640x640 (no detections), 61.0ms\n",
      "2: 640x640 1 stop sign, 61.0ms\n",
      "3: 640x640 1 bottle, 61.0ms\n",
      "4: 640x640 (no detections), 61.0ms\n",
      "5: 640x640 (no detections), 61.0ms\n",
      "6: 640x640 1 cup, 61.0ms\n",
      "Speed: 3.1ms preprocess, 61.0ms inference, 77.7ms postprocess per image at shape (1, 3, 640, 640)\n"
     ]
    },
    {
     "name": "stderr",
     "output_type": "stream",
     "text": [
      "\n",
      "** (xviewer:42836): CRITICAL **: 23:06:36.312: xviewer_list_store_get_pos_by_image: assertion 'XVIEWER_IS_IMAGE (image)' failed\n",
      "\n",
      "** (xviewer:42836): CRITICAL **: 23:06:36.891: xviewer_list_store_get_pos_by_image: assertion 'XVIEWER_IS_IMAGE (image)' failed\n"
     ]
    }
   ],
   "source": [
    "# Load the pre-trained YOLOv8 model\n",
    "model = YOLO('yolov8n')  # This will automatically download the model weights\n",
    "# Prueba con una imagen local\n",
    "\n",
    "# Run batched inference on a list of images\n",
    "results = model(imgs)\n",
    "\n",
    "# Process results list\n",
    "for i, result in enumerate(results):\n",
    "    boxes = result.boxes  # Boxes object for bounding box outputs\n",
    "    masks = result.masks  # Masks object for segmentation masks outputs\n",
    "    keypoints = result.keypoints  # Keypoints object for pose outputs\n",
    "    probs = result.probs  # Probs object for classification outputs\n",
    "    result.show()  # display to screen\n",
    "    filename_result = f'img/result_{i + 1}.jpg'\n",
    "    result.save(filename=filename_result)  # save to disk"
   ]
  },
  {
   "cell_type": "markdown",
   "metadata": {},
   "source": [
    "Se puede observar en las imagenes de salida que este modelo resultó funcionar bien con las imagenes de este ejemplo."
   ]
  }
 ],
 "metadata": {
  "kernelspec": {
   "display_name": "Python 3",
   "language": "python",
   "name": "python3"
  },
  "language_info": {
   "codemirror_mode": {
    "name": "ipython",
    "version": 3
   },
   "file_extension": ".py",
   "mimetype": "text/x-python",
   "name": "python",
   "nbconvert_exporter": "python",
   "pygments_lexer": "ipython3",
   "version": "3.10.12"
  }
 },
 "nbformat": 4,
 "nbformat_minor": 2
}
